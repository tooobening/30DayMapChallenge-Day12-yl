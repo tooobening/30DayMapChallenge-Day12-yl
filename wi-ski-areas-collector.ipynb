{
 "cells": [
  {
   "cell_type": "code",
   "id": "6fa1cfdf34bfaeb1",
   "metadata": {
    "collapsed": true,
    "ExecuteTime": {
     "end_time": "2024-11-06T07:07:02.707796Z",
     "start_time": "2024-11-06T07:07:02.662189Z"
    }
   },
   "source": [
    "import json\n",
    "import pandas as pd\n",
    "import geopandas as gpd\n",
    "from shapely.geometry import Point\n",
    "from openstreetmap_geocoding import search_location"
   ],
   "outputs": [
    {
     "ename": "ModuleNotFoundError",
     "evalue": "No module named 'pandas'",
     "output_type": "error",
     "traceback": [
      "\u001B[1;31m---------------------------------------------------------------------------\u001B[0m",
      "\u001B[1;31mModuleNotFoundError\u001B[0m                       Traceback (most recent call last)",
      "Cell \u001B[1;32mIn[21], line 2\u001B[0m\n\u001B[0;32m      1\u001B[0m \u001B[38;5;28;01mimport\u001B[39;00m \u001B[38;5;21;01mjson\u001B[39;00m\n\u001B[1;32m----> 2\u001B[0m \u001B[38;5;28;01mimport\u001B[39;00m \u001B[38;5;21;01mpandas\u001B[39;00m \u001B[38;5;28;01mas\u001B[39;00m \u001B[38;5;21;01mpd\u001B[39;00m\n\u001B[0;32m      3\u001B[0m \u001B[38;5;28;01mimport\u001B[39;00m \u001B[38;5;21;01mgeopandas\u001B[39;00m \u001B[38;5;28;01mas\u001B[39;00m \u001B[38;5;21;01mgpd\u001B[39;00m\n\u001B[0;32m      4\u001B[0m \u001B[38;5;28;01mfrom\u001B[39;00m \u001B[38;5;21;01mshapely\u001B[39;00m\u001B[38;5;21;01m.\u001B[39;00m\u001B[38;5;21;01mgeometry\u001B[39;00m \u001B[38;5;28;01mimport\u001B[39;00m Point\n",
      "\u001B[1;31mModuleNotFoundError\u001B[0m: No module named 'pandas'"
     ]
    }
   ],
   "execution_count": 21
  },
  {
   "metadata": {},
   "cell_type": "code",
   "outputs": [
    {
     "name": "stdout",
     "output_type": "stream",
     "text": [
      "module imported.\n",
      "{'place_id': 373334542, 'licence': 'Data © OpenStreetMap contributors, ODbL 1.0. http://osm.org/copyright', 'osm_type': 'way', 'osm_id': 208286091, 'lat': '43.41784335', 'lon': '-89.62725443175074', 'class': 'tourism', 'type': 'hotel', 'place_rank': 30, 'importance': 9.99999999995449e-06, 'addresstype': 'tourism', 'name': 'Devils Head Lodge', 'display_name': 'Devils Head Lodge, Bluff Road, Town of Merrimac, Sauk County, Wisconsin, 53561, United States', 'address': {'tourism': 'Devils Head Lodge', 'road': 'Bluff Road', 'municipality': 'Town of Merrimac', 'county': 'Sauk County', 'state': 'Wisconsin', 'ISO3166-2-lvl4': 'US-WI', 'postcode': '53561', 'country': 'United States', 'country_code': 'us'}, 'boundingbox': ['43.4172767', '43.4184184', '-89.6288060', '-89.6266763']}\n",
      "{\n",
      "  \"place_id\": 373334542,\n",
      "  \"licence\": \"Data \\u00a9 OpenStreetMap contributors, ODbL 1.0. http://osm.org/copyright\",\n",
      "  \"osm_type\": \"way\",\n",
      "  \"osm_id\": 208286091,\n",
      "  \"lat\": \"43.41784335\",\n",
      "  \"lon\": \"-89.62725443175074\",\n",
      "  \"class\": \"tourism\",\n",
      "  \"type\": \"hotel\",\n",
      "  \"place_rank\": 30,\n",
      "  \"importance\": 9.99999999995449e-06,\n",
      "  \"addresstype\": \"tourism\",\n",
      "  \"name\": \"Devils Head Lodge\",\n",
      "  \"display_name\": \"Devils Head Lodge, Bluff Road, Town of Merrimac, Sauk County, Wisconsin, 53561, United States\",\n",
      "  \"address\": {\n",
      "    \"tourism\": \"Devils Head Lodge\",\n",
      "    \"road\": \"Bluff Road\",\n",
      "    \"municipality\": \"Town of Merrimac\",\n",
      "    \"county\": \"Sauk County\",\n",
      "    \"state\": \"Wisconsin\",\n",
      "    \"ISO3166-2-lvl4\": \"US-WI\",\n",
      "    \"postcode\": \"53561\",\n",
      "    \"country\": \"United States\",\n",
      "    \"country_code\": \"us\"\n",
      "  },\n",
      "  \"boundingbox\": [\n",
      "    \"43.4172767\",\n",
      "    \"43.4184184\",\n",
      "    \"-89.6288060\",\n",
      "    \"-89.6266763\"\n",
      "  ]\n",
      "}\n",
      "Found location at: 43.41784335, -89.62725443175074\n"
     ]
    }
   ],
   "execution_count": 13,
   "source": [
    "print('module imported.')\n",
    "result = search_location(\"Devils Head wisconsin\")\n",
    "print(result)\n",
    "if result:\n",
    "    print(json.dumps(result, indent=2))\n",
    "    print(f\"Found location at: {result['lat']}, {result['lon']}\")\n"
   ],
   "id": "initial_id"
  },
  {
   "metadata": {
    "ExecuteTime": {
     "end_time": "2024-11-06T06:52:52.379232Z",
     "start_time": "2024-11-06T06:52:51.352728Z"
    }
   },
   "cell_type": "code",
   "source": [
    "ski_resort = 'Granite Peak'\n",
    "print(search_location(ski_resort+' Wisconsin'))"
   ],
   "id": "475683f416b3fffb",
   "outputs": [
    {
     "name": "stdout",
     "output_type": "stream",
     "text": [
      "{'place_id': 29308398, 'licence': 'Data © OpenStreetMap contributors, ODbL 1.0. http://osm.org/copyright', 'osm_type': 'node', 'osm_id': 2625226206, 'lat': '44.928725', 'lon': '-89.6826506', 'class': 'leisure', 'type': 'sports_centre', 'place_rank': 30, 'importance': 9.99999999995449e-06, 'addresstype': 'leisure', 'name': 'Granite Peak', 'display_name': 'Granite Peak, Snowbird Avenue, Village of Rib Mountain, Marathon County, Wisconsin, 54401, United States', 'address': {'leisure': 'Granite Peak', 'road': 'Snowbird Avenue', 'village': 'Village of Rib Mountain', 'county': 'Marathon County', 'state': 'Wisconsin', 'ISO3166-2-lvl4': 'US-WI', 'postcode': '54401', 'country': 'United States', 'country_code': 'us'}, 'boundingbox': ['44.9286750', '44.9287750', '-89.6827006', '-89.6826006']}\n"
     ]
    }
   ],
   "execution_count": 5
  },
  {
   "metadata": {
    "ExecuteTime": {
     "end_time": "2024-11-06T06:57:05.979296Z",
     "start_time": "2024-11-06T06:57:05.970921Z"
    }
   },
   "cell_type": "code",
   "source": [
    "ski_areas_wi = {\n",
    "    'name': [\n",
    "        'Cascade Mountain', 'Granite Peak', 'Devils Head',\n",
    "        'Trollhaugen Ski Area', 'Tyrol Basin', 'Alpine Valley Resort'\n",
    "    ],\n",
    "    'city': [\n",
    "        'Portage', 'Wausau', 'Merrimac',\n",
    "        'Dresser', 'Mt. Horeb', 'East Troy'\n",
    "    ]\n",
    "}"
   ],
   "id": "e3f570e2cfc4abdf",
   "outputs": [],
   "execution_count": 15
  },
  {
   "metadata": {
    "ExecuteTime": {
     "end_time": "2024-11-06T06:57:30.115683Z",
     "start_time": "2024-11-06T06:57:19.945966Z"
    }
   },
   "cell_type": "code",
   "source": [
    "ski_areas_wi['geometry'] = [(search_location(name+' Wisconsin')['lat'],search_location(name+' Wisconsin')['lon']) for name in ski_areas_wi['name']]\n",
    "print(ski_areas_wi)"
   ],
   "id": "6805bffc53a0f59d",
   "outputs": [
    {
     "name": "stdout",
     "output_type": "stream",
     "text": [
      "{'name': ['Cascade Mountain', 'Granite Peak', 'Devils Head', 'Trollhaugen Ski Area', 'Tyrol Basin', 'Alpine Valley Resort'], 'city': ['Portage', 'Wausau', 'Merrimac', 'Dresser', 'Mt. Horeb', 'East Troy'], 'geometry': [('43.4930382', '-89.518732'), ('44.928725', '-89.6826506'), ('43.41784335', '-89.62725443175074'), ('45.34732895', '-92.62031006385448'), ('43.046080700000005', '-89.7850082040047'), ('42.7316878', '-88.42811487537361')]}\n"
     ]
    }
   ],
   "execution_count": 17
  },
  {
   "metadata": {
    "ExecuteTime": {
     "end_time": "2024-11-06T06:58:45.577954Z",
     "start_time": "2024-11-06T06:58:45.522027Z"
    }
   },
   "cell_type": "code",
   "source": [
    "import pandas as pd\n",
    "import geopandas as gpd\n",
    "from shapely.geometry import Point"
   ],
   "id": "4d6a0c9366611e7b",
   "outputs": [
    {
     "ename": "ModuleNotFoundError",
     "evalue": "No module named 'pandas'",
     "output_type": "error",
     "traceback": [
      "\u001B[1;31m---------------------------------------------------------------------------\u001B[0m",
      "\u001B[1;31mModuleNotFoundError\u001B[0m                       Traceback (most recent call last)",
      "Cell \u001B[1;32mIn[18], line 1\u001B[0m\n\u001B[1;32m----> 1\u001B[0m \u001B[38;5;28;01mimport\u001B[39;00m \u001B[38;5;21;01mpandas\u001B[39;00m \u001B[38;5;28;01mas\u001B[39;00m \u001B[38;5;21;01mpd\u001B[39;00m\n\u001B[0;32m      2\u001B[0m \u001B[38;5;28;01mimport\u001B[39;00m \u001B[38;5;21;01mgeopandas\u001B[39;00m \u001B[38;5;28;01mas\u001B[39;00m \u001B[38;5;21;01mgpd\u001B[39;00m\n\u001B[0;32m      3\u001B[0m \u001B[38;5;28;01mfrom\u001B[39;00m \u001B[38;5;21;01mshapely\u001B[39;00m\u001B[38;5;21;01m.\u001B[39;00m\u001B[38;5;21;01mgeometry\u001B[39;00m \u001B[38;5;28;01mimport\u001B[39;00m Point\n",
      "\u001B[1;31mModuleNotFoundError\u001B[0m: No module named 'pandas'"
     ]
    }
   ],
   "execution_count": 18
  },
  {
   "metadata": {},
   "cell_type": "code",
   "outputs": [],
   "execution_count": null,
   "source": "",
   "id": "25a243dd9f6a5075"
  }
 ],
 "metadata": {
  "kernelspec": {
   "display_name": "Python 3",
   "language": "python",
   "name": "python3"
  },
  "language_info": {
   "codemirror_mode": {
    "name": "ipython",
    "version": 2
   },
   "file_extension": ".py",
   "mimetype": "text/x-python",
   "name": "python",
   "nbconvert_exporter": "python",
   "pygments_lexer": "ipython2",
   "version": "2.7.6"
  }
 },
 "nbformat": 4,
 "nbformat_minor": 5
}
